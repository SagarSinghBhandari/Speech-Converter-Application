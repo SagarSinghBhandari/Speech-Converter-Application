{
 "cells": [
  {
   "cell_type": "markdown",
   "metadata": {},
   "source": [
    "Necessary Libraries:"
   ]
  },
  {
   "cell_type": "code",
   "execution_count": 41,
   "metadata": {},
   "outputs": [],
   "source": [
    "import tkinter as tk\n",
    "from tkinter import ttk\n",
    "import pyttsx3\n",
    "import speech_recognition as sr"
   ]
  },
  {
   "cell_type": "markdown",
   "metadata": {},
   "source": [
    "SpeechConverterApp Class:"
   ]
  },
  {
   "cell_type": "code",
   "execution_count": 42,
   "metadata": {},
   "outputs": [],
   "source": [
    "class SpeechConverterApp:\n",
    "    def __init__(self, root):\n",
    "        self.root = root\n",
    "        self.root.title(\"Speech Converter\")\n",
    "        self.root.configure(bg='#f0f8ff')\n",
    "        self.root.geometry(\"600x500\")\n",
    "\n",
    "        # Adding a stylish title label\n",
    "        self.title_label = ttk.Label(root, text=\"Speech Converter\", font=(\"Helvetica\", 20, \"bold\"), background='#f0f8ff', foreground='#00008b')\n",
    "        self.title_label.pack(pady=10)\n",
    "\n",
    "        self.label = ttk.Label(root, text=\"Enter text or use microphone:\", font=(\"Helvetica\", 12), background='#f0f8ff')\n",
    "        self.label.pack(pady=10)\n",
    "\n",
    "        self.text_entry = ttk.Entry(root, width=40, font=(\"Helvetica\", 12))\n",
    "        self.text_entry.pack(pady=10)\n",
    "\n",
    "        self.language_label = ttk.Label(root, text=\"Select language:\", font=(\"Helvetica\", 12), background='#f0f8ff')\n",
    "        self.language_label.pack(pady=5)\n",
    "        \n",
    "        self.language_options = [\n",
    "            \"English ('en')\", \"Hindi ('hi')\", \"Bengali ('bn')\", \"Telugu ('te')\", \"Marathi ('mr')\",\n",
    "            \"Tamil ('ta')\", \"Urdu ('ur')\", \"Gujarati ('gu')\", \"Malayalam ('ml')\",\n",
    "            \"Kannada ('kn')\", \"Oriya ('or')\", \"Punjabi ('pa')\"\n",
    "        ]\n",
    "        \n",
    "        self.selected_language = tk.StringVar(value=self.language_options[0])\n",
    "        self.language_menu = ttk.Combobox(root, values=self.language_options, textvariable=self.selected_language, font=(\"Helvetica\", 12))\n",
    "        self.language_menu.pack(pady=5)\n",
    "\n",
    "        self.result_label = ttk.Label(root, text=\"\", font=(\"Helvetica\", 12), background='#f0f8ff', foreground='#ff0000')\n",
    "        self.result_label.pack(pady=10)\n",
    "\n",
    "        button_style = ttk.Style()\n",
    "        button_style.configure('TButton', font=('Helvetica', 12), padding=10)\n",
    "\n",
    "        self.text_to_speech_button = ttk.Button(root, text=\"Text to Speech\", command=self.text_to_speech, style='TButton')\n",
    "        self.text_to_speech_button.pack(pady=12)\n",
    "\n",
    "        self.speech_to_text_button = ttk.Button(root, text=\"Speech to Text\", command=self.speech_to_text, style='TButton')\n",
    "        self.speech_to_text_button.pack(pady=12)\n",
    "\n",
    "        # Footer\n",
    "        self.footer_label = ttk.Label(root, text=\"Developed by Sagar Singh Bhandari\", font=(\"Helvetica\", 10), background='#f0f8ff', foreground='#696969')\n",
    "        self.footer_label.pack(side=tk.BOTTOM, pady=10)\n"
   ]
  },
  {
   "cell_type": "markdown",
   "metadata": {},
   "source": [
    "Text To Speech:"
   ]
  },
  {
   "cell_type": "code",
   "execution_count": 43,
   "metadata": {},
   "outputs": [],
   "source": [
    "def text_to_speech(self):\n",
    "    text = self.text_entry.get()\n",
    "    language_code = self.get_selected_language_code()\n",
    "    \n",
    "    if text and language_code:\n",
    "        engine = pyttsx3.init()\n",
    "        engine.setProperty('rate', 125)  # Speed of speech\n",
    "        engine.setProperty('voice', language_code)\n",
    "        engine.say(text)\n",
    "        engine.save_to_file(text, 'output.mp3')\n",
    "        engine.runAndWait()\n",
    "        self.result_label.config(text=\"Text to Speech conversion successful.\")\n",
    "    else:\n",
    "        self.result_label.config(text=\"Please enter text and select a language before converting.\")\n"
   ]
  },
  {
   "cell_type": "markdown",
   "metadata": {},
   "source": [
    "Speect To Text:"
   ]
  },
  {
   "cell_type": "code",
   "execution_count": 44,
   "metadata": {},
   "outputs": [],
   "source": [
    "def speech_to_text(self):\n",
    "    language_code = self.get_selected_language_code()\n",
    "\n",
    "    recognizer = sr.Recognizer()\n",
    "    with sr.Microphone() as source:\n",
    "        print(\"Listening...\")\n",
    "        audio = recognizer.listen(source)\n",
    "\n",
    "    try:\n",
    "        text = recognizer.recognize_google(audio, language=language_code)\n",
    "        self.result_label.config(text=f\"You said: {text}\")\n",
    "        self.text_entry.delete(0, tk.END)\n",
    "        self.text_entry.insert(0, text)\n",
    "    except sr.UnknownValueError:\n",
    "        self.result_label.config(text=\"Could not understand audio.\")\n",
    "    except sr.RequestError as e:\n",
    "        self.result_label.config(text=f\"Error with the speech recognition service; {e}\")\n"
   ]
  },
  {
   "cell_type": "markdown",
   "metadata": {},
   "source": [
    "Language Selection Function:"
   ]
  },
  {
   "cell_type": "code",
   "execution_count": 45,
   "metadata": {},
   "outputs": [],
   "source": [
    "def get_selected_language_code(self):\n",
    "    selected_option = self.selected_language.get()\n",
    "    # Extract language code from the selected option\n",
    "    language_code = selected_option.split(\"('\")[1].split(\"')\")[0]\n",
    "    return language_code"
   ]
  },
  {
   "cell_type": "markdown",
   "metadata": {},
   "source": [
    "Running Application"
   ]
  },
  {
   "cell_type": "code",
   "execution_count": 46,
   "metadata": {},
   "outputs": [],
   "source": [
    "SpeechConverterApp.text_to_speech = text_to_speech\n",
    "SpeechConverterApp.speech_to_text = speech_to_text\n",
    "SpeechConverterApp.get_selected_language_code = get_selected_language_code"
   ]
  },
  {
   "cell_type": "code",
   "execution_count": 47,
   "metadata": {},
   "outputs": [
    {
     "name": "stderr",
     "output_type": "stream",
     "text": [
      "Exception in Tkinter callback\n",
      "Traceback (most recent call last):\n",
      "  File \"C:\\Program Files\\WindowsApps\\PythonSoftwareFoundation.Python.3.11_3.11.2544.0_x64__qbz5n2kfra8p0\\Lib\\tkinter\\__init__.py\", line 1967, in __call__\n",
      "    return self.func(*args)\n",
      "           ^^^^^^^^^^^^^^^^\n",
      "  File \"C:\\Users\\singh\\AppData\\Local\\Temp\\ipykernel_15564\\3836081840.py\", line 10, in text_to_speech\n",
      "    for voice in voice:\n",
      "                 ^^^^^\n",
      "UnboundLocalError: cannot access local variable 'voice' where it is not associated with a value\n",
      "Exception in Tkinter callback\n",
      "Traceback (most recent call last):\n",
      "  File \"C:\\Program Files\\WindowsApps\\PythonSoftwareFoundation.Python.3.11_3.11.2544.0_x64__qbz5n2kfra8p0\\Lib\\tkinter\\__init__.py\", line 1967, in __call__\n",
      "    return self.func(*args)\n",
      "           ^^^^^^^^^^^^^^^^\n",
      "  File \"C:\\Users\\singh\\AppData\\Local\\Temp\\ipykernel_15564\\3836081840.py\", line 10, in text_to_speech\n",
      "    for voice in voice:\n",
      "                 ^^^^^\n",
      "UnboundLocalError: cannot access local variable 'voice' where it is not associated with a value\n",
      "Exception in Tkinter callback\n",
      "Traceback (most recent call last):\n",
      "  File \"C:\\Program Files\\WindowsApps\\PythonSoftwareFoundation.Python.3.11_3.11.2544.0_x64__qbz5n2kfra8p0\\Lib\\tkinter\\__init__.py\", line 1967, in __call__\n",
      "    return self.func(*args)\n",
      "           ^^^^^^^^^^^^^^^^\n",
      "  File \"C:\\Users\\singh\\AppData\\Local\\Temp\\ipykernel_15564\\3836081840.py\", line 10, in text_to_speech\n",
      "    for voice in voice:\n",
      "                 ^^^^^\n",
      "UnboundLocalError: cannot access local variable 'voice' where it is not associated with a value\n",
      "Exception in Tkinter callback\n",
      "Traceback (most recent call last):\n",
      "  File \"C:\\Program Files\\WindowsApps\\PythonSoftwareFoundation.Python.3.11_3.11.2544.0_x64__qbz5n2kfra8p0\\Lib\\tkinter\\__init__.py\", line 1967, in __call__\n",
      "    return self.func(*args)\n",
      "           ^^^^^^^^^^^^^^^^\n",
      "  File \"C:\\Users\\singh\\AppData\\Local\\Temp\\ipykernel_15564\\3836081840.py\", line 10, in text_to_speech\n",
      "    for voice in voice:\n",
      "                 ^^^^^\n",
      "UnboundLocalError: cannot access local variable 'voice' where it is not associated with a value\n",
      "Exception in Tkinter callback\n",
      "Traceback (most recent call last):\n",
      "  File \"C:\\Program Files\\WindowsApps\\PythonSoftwareFoundation.Python.3.11_3.11.2544.0_x64__qbz5n2kfra8p0\\Lib\\tkinter\\__init__.py\", line 1967, in __call__\n",
      "    return self.func(*args)\n",
      "           ^^^^^^^^^^^^^^^^\n",
      "  File \"C:\\Users\\singh\\AppData\\Local\\Temp\\ipykernel_15564\\3836081840.py\", line 10, in text_to_speech\n",
      "    for voice in voice:\n",
      "                 ^^^^^\n",
      "UnboundLocalError: cannot access local variable 'voice' where it is not associated with a value\n",
      "Exception in Tkinter callback\n",
      "Traceback (most recent call last):\n",
      "  File \"C:\\Program Files\\WindowsApps\\PythonSoftwareFoundation.Python.3.11_3.11.2544.0_x64__qbz5n2kfra8p0\\Lib\\tkinter\\__init__.py\", line 1967, in __call__\n",
      "    return self.func(*args)\n",
      "           ^^^^^^^^^^^^^^^^\n",
      "  File \"C:\\Users\\singh\\AppData\\Local\\Temp\\ipykernel_15564\\3836081840.py\", line 10, in text_to_speech\n",
      "    for voice in voice:\n",
      "                 ^^^^^\n",
      "UnboundLocalError: cannot access local variable 'voice' where it is not associated with a value\n",
      "Exception in Tkinter callback\n",
      "Traceback (most recent call last):\n",
      "  File \"C:\\Program Files\\WindowsApps\\PythonSoftwareFoundation.Python.3.11_3.11.2544.0_x64__qbz5n2kfra8p0\\Lib\\tkinter\\__init__.py\", line 1967, in __call__\n",
      "    return self.func(*args)\n",
      "           ^^^^^^^^^^^^^^^^\n",
      "  File \"C:\\Users\\singh\\AppData\\Local\\Temp\\ipykernel_15564\\3836081840.py\", line 10, in text_to_speech\n",
      "    for voice in voice:\n",
      "                 ^^^^^\n",
      "UnboundLocalError: cannot access local variable 'voice' where it is not associated with a value\n"
     ]
    }
   ],
   "source": [
    "if __name__ == \"__main__\":\n",
    "    root = tk.Tk()\n",
    "    app = SpeechConverterApp(root)\n",
    "    root.mainloop()"
   ]
  },
  {
   "cell_type": "code",
   "execution_count": null,
   "metadata": {},
   "outputs": [],
   "source": []
  }
 ],
 "metadata": {
  "kernelspec": {
   "display_name": "Python 3",
   "language": "python",
   "name": "python3"
  },
  "language_info": {
   "codemirror_mode": {
    "name": "ipython",
    "version": 3
   },
   "file_extension": ".py",
   "mimetype": "text/x-python",
   "name": "python",
   "nbconvert_exporter": "python",
   "pygments_lexer": "ipython3",
   "version": "3.11.9"
  }
 },
 "nbformat": 4,
 "nbformat_minor": 2
}
